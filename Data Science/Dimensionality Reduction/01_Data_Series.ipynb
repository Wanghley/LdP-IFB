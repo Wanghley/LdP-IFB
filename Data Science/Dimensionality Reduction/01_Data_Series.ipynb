{
  "nbformat": 4,
  "nbformat_minor": 0,
  "metadata": {
    "colab": {
      "name": "Machinne Learning - Data Series.ipynb",
      "provenance": [],
      "toc_visible": true
    },
    "kernelspec": {
      "name": "python3",
      "display_name": "Python 3"
    }
  },
  "cells": [
    {
      "cell_type": "markdown",
      "metadata": {
        "id": "dqMXl_oHeZZD",
        "colab_type": "text"
      },
      "source": [
        "# Data Series"
      ]
    },
    {
      "cell_type": "markdown",
      "metadata": {
        "id": "DNb4CoKLe-Vq",
        "colab_type": "text"
      },
      "source": [
        "### Introduction to Dimensionality Reduction:\n",
        "\n",
        "\n",
        "\n",
        "\n",
        "\n"
      ]
    },
    {
      "cell_type": "markdown",
      "metadata": {
        "id": "RXYnrwQOxaSr",
        "colab_type": "text"
      },
      "source": [
        "Why care about analysis\n",
        "*   In the BigData context we use a lot of data to get infos.\n",
        "*   We do not have just simple data\n",
        "\n",
        "#### Dimension Reduction Problem\n",
        "<figure>\n",
        "<center>\n",
        "<img src='https://drive.google.com/uc?id=109SBOwyI27W_8RFCI2BJpc5KPURlQ5bH' width=40%/>\n",
        "</center>\n",
        "</figure>\n",
        "\n",
        "Lots of variables and lots of observations -> very common in Big Data\n",
        "\n",
        "Your job is segments your dataset into smaller groups\n",
        "    e.g. if it's a table of thousands of clients you can segment it in different group of persons according to sojme characteristic\n",
        "\n",
        "\n",
        "**Too many observations**\n",
        "*   Interested to see how observations hang together\n",
        "    *   Market segmentation\n",
        "    *   Types of observations\n",
        "    *   Grouping Observations Together\n",
        "\n",
        "\n",
        "**Too many Variables**\n",
        "\n",
        "*   Interested to see how variables hang together\n",
        "    *   Variables may describe similar things\n",
        "    *   What is the underlying similarity\n",
        "    *   Grouping Variables\n",
        "*   Don't want to enter all of the variables in the model - inneficient, computacionally intensive, potentially high correlations among variables.\n",
        "\n",
        "*   Exploratory Factor Analysis & Principal Component analysis come to help"
      ]
    },
    {
      "cell_type": "markdown",
      "metadata": {
        "id": "ho5lU_SrwdVR",
        "colab_type": "text"
      },
      "source": [
        "#### **Dimension reduction solutions**\n",
        "\n",
        "\n",
        "1.   **Reduce the dimensions of the population**<br>\n",
        "    **a**. Cluster Analysis<br>\n",
        "        Segments the observations into group\n",
        "        Machinne learning - CLuster Analysis\n",
        "\n",
        "\n",
        "2.   **Reduce the dimension of the construct**<br>\n",
        "    **a**. Principal Component Analysis<br>\n",
        "    **b**. Exploratory Factor Analysis\n",
        "\n",
        "Social Skills with analysis of 6 variables - From 6 to 1 dimension\n"
      ]
    },
    {
      "cell_type": "markdown",
      "metadata": {
        "id": "seq3I6JLyxdP",
        "colab_type": "text"
      },
      "source": [
        "### Dimension Reduction Goals"
      ]
    },
    {
      "cell_type": "markdown",
      "metadata": {
        "id": "EfbCJsgyy5on",
        "colab_type": "text"
      },
      "source": [
        "![objective path](https://drive.google.com/uc?id=1qPrAHogTqBL2g_bySHjxTiSMxxhjKsxQ)"
      ]
    },
    {
      "cell_type": "markdown",
      "metadata": {
        "id": "jnwLRbTKz-7W",
        "colab_type": "text"
      },
      "source": [
        "**Assumptions**\n",
        "Any sequence of n numbers can also be considered to represent n-dimensional space\n",
        "\n",
        "But:\n",
        "\n",
        "Some dimensions are closer to each other than others\n",
        "\n",
        "Higher-order dimensions are permutations of lower-order dimensions"
      ]
    },
    {
      "cell_type": "markdown",
      "metadata": {
        "id": "MMhv6kgn1YAt",
        "colab_type": "text"
      },
      "source": [
        "\n",
        "**PCA vs EFA**<br>\n",
        "* **PCA** explains the total variance whereas **EFA** explains the common variance<br>\n",
        "* **PCA** identify measures that are sufficiently similar to each other to justify combination whereas **EFA** captures latent constructs assumed to cause the variance.<br>\n",
        "Most behavioral science research questions that involve factor analysis are theoretically akin to EFA(with notable exceptions)\n",
        "\n"
      ]
    },
    {
      "cell_type": "markdown",
      "metadata": {
        "id": "SNyuTdXO3WdW",
        "colab_type": "text"
      },
      "source": [
        "**LOADINGS - correlations between each variable and component/factor**<br>\n",
        "**COMMUNALITY - amount of variance of each variable explained by factor structure**<br>\n",
        "**UNIQUENESS - amount of variance of each variable not explained by the factor structure[1-Communality]**"
      ]
    }
  ]
}